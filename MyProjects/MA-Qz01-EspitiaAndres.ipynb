{
  "nbformat": 4,
  "nbformat_minor": 0,
  "metadata": {
    "colab": {
      "provenance": []
    },
    "kernelspec": {
      "name": "python3",
      "display_name": "Python 3"
    },
    "language_info": {
      "name": "python"
    }
  },
  "cells": [
    {
      "cell_type": "code",
      "execution_count": 1,
      "metadata": {
        "id": "_I64oTH61X0W"
      },
      "outputs": [],
      "source": [
        "import pandas as pd\n",
        "import statsmodels.api as sm\n",
        "import matplotlib.pyplot as plt"
      ]
    },
    {
      "cell_type": "code",
      "source": [
        "df = pd.read_csv(\"/content/datos_peso_altura.csv\", sep = \";\", encoding = \"latin1\")"
      ],
      "metadata": {
        "id": "1YV2eQiN2MBx"
      },
      "execution_count": 24,
      "outputs": []
    },
    {
      "cell_type": "code",
      "source": [
        "df"
      ],
      "metadata": {
        "id": "gg9qjuqa3P_3"
      },
      "execution_count": null,
      "outputs": []
    },
    {
      "cell_type": "code",
      "source": [
        "df.info()"
      ],
      "metadata": {
        "id": "14R0_7AM3alS"
      },
      "execution_count": null,
      "outputs": []
    },
    {
      "cell_type": "code",
      "source": [
        "x = df[\"Altura-(cm)\"]"
      ],
      "metadata": {
        "id": "IDZGyhEo3gIc"
      },
      "execution_count": 28,
      "outputs": []
    },
    {
      "cell_type": "code",
      "source": [
        "y = df[\"Peso-(kg)\"]"
      ],
      "metadata": {
        "id": "oe0EDKA84Fdl"
      },
      "execution_count": 29,
      "outputs": []
    },
    {
      "cell_type": "code",
      "source": [
        "x = sm.add_constant(x)"
      ],
      "metadata": {
        "id": "FIif6wKN4JBn"
      },
      "execution_count": 30,
      "outputs": []
    },
    {
      "cell_type": "code",
      "source": [
        "x"
      ],
      "metadata": {
        "id": "HZ6E52i9_Dvf"
      },
      "execution_count": null,
      "outputs": []
    },
    {
      "cell_type": "code",
      "source": [
        "modelo = sm.OLS(y, x).fit()"
      ],
      "metadata": {
        "id": "YgnyGsce4b_I"
      },
      "execution_count": 31,
      "outputs": []
    },
    {
      "cell_type": "code",
      "source": [
        "modelo.params[\"const\"]"
      ],
      "metadata": {
        "colab": {
          "base_uri": "https://localhost:8080/"
        },
        "id": "DfDWy5X943qD",
        "outputId": "8458fcdd-f65c-4ab7-8bfb-5cfe94c51392"
      },
      "execution_count": 32,
      "outputs": [
        {
          "output_type": "execute_result",
          "data": {
            "text/plain": [
              "-223.42759980285848"
            ]
          },
          "metadata": {},
          "execution_count": 32
        }
      ]
    },
    {
      "cell_type": "code",
      "source": [
        "print(modelo.summary())"
      ],
      "metadata": {
        "colab": {
          "base_uri": "https://localhost:8080/"
        },
        "id": "JdL-R4uL5xNL",
        "outputId": "aeb8ec6b-8b34-4d25-a2c7-4f69bf65a6d8"
      },
      "execution_count": 33,
      "outputs": [
        {
          "output_type": "stream",
          "name": "stdout",
          "text": [
            "                            OLS Regression Results                            \n",
            "==============================================================================\n",
            "Dep. Variable:              Peso-(kg)   R-squared:                       0.959\n",
            "Model:                            OLS   Adj. R-squared:                  0.958\n",
            "Method:                 Least Squares   F-statistic:                     1111.\n",
            "Date:                Wed, 25 Oct 2023   Prob (F-statistic):           7.51e-35\n",
            "Time:                        22:32:17   Log-Likelihood:                -129.17\n",
            "No. Observations:                  50   AIC:                             262.3\n",
            "Df Residuals:                      48   BIC:                             266.2\n",
            "Df Model:                           1                                         \n",
            "Covariance Type:            nonrobust                                         \n",
            "===============================================================================\n",
            "                  coef    std err          t      P>|t|      [0.025      0.975]\n",
            "-------------------------------------------------------------------------------\n",
            "const        -223.4276      9.314    -23.987      0.000    -242.156    -204.700\n",
            "Altura-(cm)     1.7116      0.051     33.338      0.000       1.608       1.815\n",
            "==============================================================================\n",
            "Omnibus:                        8.363   Durbin-Watson:                   1.048\n",
            "Prob(Omnibus):                  0.015   Jarque-Bera (JB):                7.510\n",
            "Skew:                           0.812   Prob(JB):                       0.0234\n",
            "Kurtosis:                       3.985   Cond. No.                     3.65e+03\n",
            "==============================================================================\n",
            "\n",
            "Notes:\n",
            "[1] Standard Errors assume that the covariance matrix of the errors is correctly specified.\n",
            "[2] The condition number is large, 3.65e+03. This might indicate that there are\n",
            "strong multicollinearity or other numerical problems.\n"
          ]
        }
      ]
    },
    {
      "cell_type": "code",
      "source": [
        "def pronostico(alt):\n",
        "  peso = modelo.params[\"Altura-(cm)\"]*alt + modelo.params[\"const\"]\n",
        "  return peso"
      ],
      "metadata": {
        "id": "HwxZteXj4-3Q"
      },
      "execution_count": 43,
      "outputs": []
    },
    {
      "cell_type": "code",
      "source": [
        "alt = float(input(\"Qué altura desea pronosticar? \"))\n",
        "\n",
        "print(\"El peso esperado es: \"+str(pronostico(173)))"
      ],
      "metadata": {
        "colab": {
          "base_uri": "https://localhost:8080/"
        },
        "id": "CYPMFrlc5kAg",
        "outputId": "652e1a02-9cb9-40bc-9750-99c69e49a7ae"
      },
      "execution_count": 45,
      "outputs": [
        {
          "output_type": "stream",
          "name": "stdout",
          "text": [
            "Qué altura desea pronosticar? 173\n",
            "El peso esperado es: 72.68462296697896\n"
          ]
        }
      ]
    }
  ]
}