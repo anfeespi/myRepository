{
  "nbformat": 4,
  "nbformat_minor": 0,
  "metadata": {
    "colab": {
      "provenance": []
    },
    "kernelspec": {
      "name": "python3",
      "display_name": "Python 3"
    },
    "language_info": {
      "name": "python"
    }
  },
  "cells": [
    {
      "cell_type": "markdown",
      "source": [
        "1. Implemente una función que haga la suma de dos tramas de bits. Las dos tramas deben ser\n",
        "parámetros de entrada del programa."
      ],
      "metadata": {
        "id": "yI-C4jJP5g2f"
      }
    },
    {
      "cell_type": "code",
      "source": [
        "def sumarTramas(tr1, tr2):\n",
        "  max_length = max(len(tr1), len(tr2))\n",
        "  tr1 = tr1.zfill(max_length)\n",
        "  tr2 = tr2.zfill(max_length)\n",
        "\n",
        "  carry = 0\n",
        "  res = \"\"\n",
        "\n",
        "  for i in range(max_length - 1, -1, -1):\n",
        "    bit1 = int(tr1[i])\n",
        "    bit2 = int(tr2[i])\n",
        "\n",
        "    suma = bit1 + bit2 + carry\n",
        "\n",
        "    if suma == 0:\n",
        "      res = \"0\" + res\n",
        "      carry = 0\n",
        "    elif suma == 1:\n",
        "      res = \"1\" + res\n",
        "      carry = 0\n",
        "    elif suma == 2:\n",
        "      res = \"0\" + res\n",
        "      carry = 1\n",
        "    else:\n",
        "      res = \"1\" + res\n",
        "      carry = 1\n",
        "\n",
        "  if carry == 1:\n",
        "    res = \"1\" + res\n",
        "\n",
        "  return res\n",
        "\n",
        "print(\"Digite la primer trama:\")\n",
        "tr1 = input()\n",
        "print(\"Digite la segunda trama:\")\n",
        "tr2 = input()\n",
        "print(\"El resultado de la suma de las dos tramas es:\")\n",
        "sumarTramas(tr1, tr2)"
      ],
      "metadata": {
        "colab": {
          "base_uri": "https://localhost:8080/",
          "height": 125
        },
        "id": "HRigHm385ppI",
        "outputId": "03271547-32f7-4c30-934b-c835e66249e4"
      },
      "execution_count": null,
      "outputs": [
        {
          "output_type": "stream",
          "name": "stdout",
          "text": [
            "Digite la primer trama:\n",
            "101011\n",
            "Digite la segunda trama:\n",
            "1010\n",
            "El resultado de la suma de las dos tramas es:\n"
          ]
        },
        {
          "output_type": "execute_result",
          "data": {
            "text/plain": [
              "'110101'"
            ],
            "application/vnd.google.colaboratory.intrinsic+json": {
              "type": "string"
            }
          },
          "metadata": {},
          "execution_count": 10
        }
      ]
    },
    {
      "cell_type": "markdown",
      "source": [
        "2. Dado el polinomio generador G(x) = x^3 + x^2 + 1 determine el CRC correspondiente para\n",
        "la trama M(x) = 111010. Debe usar la función xor() que se implementó en clase. El polinomio\n",
        "generador y la trama deben ser parámetros de entrada del programa."
      ],
      "metadata": {
        "id": "NIfWq4ErYzdo"
      }
    },
    {
      "cell_type": "code",
      "execution_count": null,
      "metadata": {
        "id": "b-YQjpkUVYbM",
        "colab": {
          "base_uri": "https://localhost:8080/"
        },
        "outputId": "29fb46a7-5c92-42d3-94bd-b604a012d190"
      },
      "outputs": [
        {
          "output_type": "stream",
          "name": "stdout",
          "text": [
            "El CRC encontrado es: 010\n",
            "Lo que finalmente se envia es: 111010010\n"
          ]
        }
      ],
      "source": [
        "def xor(t1, t2):\n",
        "  if t1 == t2:\n",
        "    return \"0\"\n",
        "  else:\n",
        "    return \"1\"\n",
        "\n",
        "def CRC(trama, divisor, pos):\n",
        "  new_pos = 0\n",
        "  if len(trama) - pos+1 < len(divisor):\n",
        "    return trama\n",
        "\n",
        "  j = 3;\n",
        "  for i in range(pos+len(divisor)-1, pos-1, -1):\n",
        "    aux = xor(trama[i], divisor[j])\n",
        "    if aux == \"1\":\n",
        "      new_pos = i\n",
        "    trama[i] = aux\n",
        "    j = j-1\n",
        "\n",
        "  return CRC(trama, divisor, new_pos)\n",
        "\n",
        "\n",
        "TRAMA = \"111010\"\n",
        "#Como r = 3 se debe crear una trama auxiliar similar a la trama original pero que contenga 3 ceros de mas a la derecha\n",
        "TRAMA_AUX = TRAMA + \"000\"\n",
        "#El divisor se obtiene a traves del polinomio generador\n",
        "DIVISOR = \"1101\"\n",
        "\n",
        "arr = CRC(list(TRAMA_AUX), DIVISOR, 0)\n",
        "\n",
        "crc = \"\"\n",
        "for i in arr[-3:]:\n",
        "  crc = crc + i\n",
        "print(\"El CRC encontrado es: \" + crc)\n",
        "\n",
        "TRAMA_FINAL = TRAMA + crc\n",
        "print(\"Lo que finalmente se envia es: \" + TRAMA_FINAL)"
      ]
    },
    {
      "cell_type": "markdown",
      "source": [
        "3. Cree un programa que determine el bit de paridad par de una secuencia de tramas que están\n",
        "almacenadas en un archivo de texto llamado data.txt. Debe usar la función paridadpar() que\n",
        "se implementó en clase."
      ],
      "metadata": {
        "id": "qy9XaHmbVhih"
      }
    },
    {
      "cell_type": "code",
      "source": [
        "def paridadPar(trama):\n",
        "  c = 0\n",
        "  for x in trama:\n",
        "    if x == '1':\n",
        "      c += 1\n",
        "  if c % 2 == 0:\n",
        "    return '0'\n",
        "  else:\n",
        "    return '1'\n",
        "\n",
        "arch1 = open(\"/content/data.txt\", \"r\")\n",
        "print(\"Calculando paridad par...\")\n",
        "lines = arch1.readlines()\n",
        "for line in lines:\n",
        "  print(\"Entrada: \" + line[:-1] + \" - Resultado: \" + line[:-1] + paridadPar(line))\n",
        "\n",
        "arch1.close()"
      ],
      "metadata": {
        "id": "lK7vc5ZoVk7n",
        "colab": {
          "base_uri": "https://localhost:8080/"
        },
        "outputId": "0c7c57d7-c874-475f-8c60-353226e8844e"
      },
      "execution_count": null,
      "outputs": [
        {
          "output_type": "stream",
          "name": "stdout",
          "text": [
            "Calculando paridad par...\n",
            "Entrada: 1010011 - Resultado: 10100110\n",
            "Entrada: 111101 - Resultado: 1111011\n",
            "Entrada: 1000000 - Resultado: 10000001\n",
            "Entrada: 1010 - Resultado: 10100\n"
          ]
        }
      ]
    },
    {
      "cell_type": "markdown",
      "source": [
        "4. Determine el checksum de una secuencia de tramas que están almacenadas en un archivo\n",
        "de texto llamado data.txt."
      ],
      "metadata": {
        "id": "DLC6bkLQ6EJy"
      }
    },
    {
      "cell_type": "code",
      "source": [
        "arch2 = open(\"/content/data.txt\", \"r\")\n",
        "lines = arch2.readlines()\n",
        "\n",
        "#suma de todas las tramas de bits\n",
        "dec=0\n",
        "sum = 0\n",
        "for line in lines:\n",
        "  bin = int(line)\n",
        "  i = 0\n",
        "  dec = 0\n",
        "  while(bin>0):\n",
        "    digit = bin % 10\n",
        "    bin = int(bin//10)\n",
        "    dec = dec+digit*(2**i)\n",
        "    i+=1\n",
        "  sum += dec\n",
        "\n",
        "dec=sum\n",
        "bin = 0\n",
        "i = 0\n",
        "while (dec>0):\n",
        "    digit = dec%2\n",
        "    dec = int(dec//2)\n",
        "    bin = bin+digit*(10**i)\n",
        "    i = i+1\n",
        "\n",
        "#Si la trama resultante es mayor a 8 bits, se recorta\n",
        "while (len(str(bin)) > 8):\n",
        "  bin1 = int(str(bin)[2:])\n",
        "  bin2 = int(str(bin)[:2])\n",
        "  i = 0\n",
        "  dec = 0\n",
        "  while(bin1>0):\n",
        "    digit = bin1 % 10\n",
        "    bin1 = int(bin1//10)\n",
        "    dec = dec+digit*(2**i)\n",
        "    i+=1\n",
        "  i = 0\n",
        "  while(bin2>0):\n",
        "    digit = bin2 % 10\n",
        "    bin2 = int(bin2//10)\n",
        "    dec = dec+digit*(2**i)\n",
        "    i+=1\n",
        "\n",
        "  bin = 0\n",
        "  i = 0\n",
        "  while (dec>0):\n",
        "      digit = dec%2\n",
        "      dec = int(dec//2)\n",
        "      bin = bin+digit*(10**i)\n",
        "      i = i+1\n",
        "\n",
        "#Hacer complemento\n",
        "i=0\n",
        "imp = \"\"\n",
        "for x in str(bin):\n",
        "  if x == '1':\n",
        "    imp += \"0\"\n",
        "  else:\n",
        "    imp += \"1\"\n",
        "\n",
        "print(\"El checksum es: :\"+imp)\n",
        "\n",
        "arch2.close()"
      ],
      "metadata": {
        "id": "cRcf2OjR7VHH",
        "outputId": "e19b7fae-799b-4f92-fc00-db49f76f2fff",
        "colab": {
          "base_uri": "https://localhost:8080/"
        }
      },
      "execution_count": 16,
      "outputs": [
        {
          "output_type": "stream",
          "name": "stdout",
          "text": [
            "El checksum es: :0110100\n"
          ]
        }
      ]
    },
    {
      "cell_type": "markdown",
      "source": [
        "5. Determine la trama de datos a transmitir, por el método de Hamming, para un paquete de\n",
        "datos que entre por teclado."
      ],
      "metadata": {
        "id": "I2f9-9_fiHvL"
      }
    },
    {
      "cell_type": "code",
      "source": [
        "def paridadpar(tr1, tr2, tr3):\n",
        "  c = 0\n",
        "  if tr1 == 1:\n",
        "    c += 1\n",
        "  if tr2 == 1:\n",
        "    c += 1\n",
        "  if tr3 == 1:\n",
        "    c += 1\n",
        "\n",
        "  if c%2 == 0:\n",
        "    return '0'\n",
        "  else:\n",
        "    return '1'\n",
        "\n",
        "entrada = str(input(\"Ingrese la trama de bits (4): \"))\n",
        "\n",
        "salida = \"       \"\n",
        "salida = list(salida)\n",
        "\n",
        "i = 0\n",
        "while(i<7):\n",
        "  if i == 4:\n",
        "    salida[i] = entrada[i-1]\n",
        "  elif i == 3:\n",
        "    salida[i] = paridadpar(int(entrada[2]), int(entrada[1]), int(entrada[0]))\n",
        "  elif i == 5:\n",
        "    salida[i] = paridadpar(int(entrada[3]), int(entrada[1]), int(entrada[0]))\n",
        "  elif i == 6:\n",
        "    salida[i] = paridadpar(int(entrada[3]), int(entrada[2]), int(entrada[0]))\n",
        "  else:\n",
        "    salida[i] = entrada[i]\n",
        "  i+=1\n",
        "\n",
        "print(\"La trama a transmitir es: \"+ str(\"\".join(salida)))\n"
      ],
      "metadata": {
        "colab": {
          "base_uri": "https://localhost:8080/"
        },
        "id": "dYQyh8cWiPAF",
        "outputId": "60d61266-ec95-4b86-94a5-4ca36ab9309e"
      },
      "execution_count": 28,
      "outputs": [
        {
          "output_type": "stream",
          "name": "stdout",
          "text": [
            "Ingrese la trama de bits (4): 1011\n",
            "La trama a transmitir es:1010101\n"
          ]
        }
      ]
    }
  ]
}